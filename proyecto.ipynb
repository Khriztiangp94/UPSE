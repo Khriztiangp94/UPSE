{
 "cells": [
  {
   "cell_type": "code",
   "execution_count": 5,
   "id": "9096d9b2",
   "metadata": {},
   "outputs": [
    {
     "name": "stderr",
     "output_type": "stream",
     "text": [
      "[nltk_data] Downloading package stopwords to /home/chris/nltk_data...\n",
      "[nltk_data]   Package stopwords is already up-to-date!\n",
      "[nltk_data] Downloading package punkt to /home/chris/nltk_data...\n",
      "[nltk_data]   Package punkt is already up-to-date!\n",
      "[nltk_data] Downloading package punkt_tab to /home/chris/nltk_data...\n",
      "[nltk_data]   Package punkt_tab is already up-to-date!\n"
     ]
    }
   ],
   "source": [
    "import nltk\n",
    "import re\n",
    "nltk.download('stopwords')\n",
    "nltk.download('punkt')\n",
    "nltk.download('punkt_tab') \n",
    "from nltk.corpus import stopwords\n",
    "\n",
    "stop_words = set(stopwords.words('english'))"
   ]
  },
  {
   "cell_type": "code",
   "execution_count": 6,
   "id": "f14daf87",
   "metadata": {},
   "outputs": [
    {
     "data": {
      "text/html": [
       "<div>\n",
       "<style scoped>\n",
       "    .dataframe tbody tr th:only-of-type {\n",
       "        vertical-align: middle;\n",
       "    }\n",
       "\n",
       "    .dataframe tbody tr th {\n",
       "        vertical-align: top;\n",
       "    }\n",
       "\n",
       "    .dataframe thead th {\n",
       "        text-align: right;\n",
       "    }\n",
       "</style>\n",
       "<table border=\"1\" class=\"dataframe\">\n",
       "  <thead>\n",
       "    <tr style=\"text-align: right;\">\n",
       "      <th></th>\n",
       "      <th>label</th>\n",
       "      <th>text</th>\n",
       "    </tr>\n",
       "  </thead>\n",
       "  <tbody>\n",
       "    <tr>\n",
       "      <th>0</th>\n",
       "      <td>0</td>\n",
       "      <td>Go until jurong point, crazy.. Available only ...</td>\n",
       "    </tr>\n",
       "    <tr>\n",
       "      <th>1</th>\n",
       "      <td>0</td>\n",
       "      <td>Ok lar... Joking wif u oni...</td>\n",
       "    </tr>\n",
       "    <tr>\n",
       "      <th>2</th>\n",
       "      <td>1</td>\n",
       "      <td>Free entry in 2 a wkly comp to win FA Cup fina...</td>\n",
       "    </tr>\n",
       "    <tr>\n",
       "      <th>3</th>\n",
       "      <td>0</td>\n",
       "      <td>U dun say so early hor... U c already then say...</td>\n",
       "    </tr>\n",
       "    <tr>\n",
       "      <th>4</th>\n",
       "      <td>0</td>\n",
       "      <td>Nah I don't think he goes to usf, he lives aro...</td>\n",
       "    </tr>\n",
       "  </tbody>\n",
       "</table>\n",
       "</div>"
      ],
      "text/plain": [
       "   label                                               text\n",
       "0      0  Go until jurong point, crazy.. Available only ...\n",
       "1      0                      Ok lar... Joking wif u oni...\n",
       "2      1  Free entry in 2 a wkly comp to win FA Cup fina...\n",
       "3      0  U dun say so early hor... U c already then say...\n",
       "4      0  Nah I don't think he goes to usf, he lives aro..."
      ]
     },
     "execution_count": 6,
     "metadata": {},
     "output_type": "execute_result"
    }
   ],
   "source": [
    "import pandas as pd\n",
    "\n",
    "url = \"https://raw.githubusercontent.com/justmarkham/DAT8/master/data/sms.tsv\"\n",
    "df = pd.read_csv(url, sep='\\t', names=[\"label\", \"text\"])\n",
    "df['label'] = df['label'].map({'ham': 0, 'spam': 1})\n",
    "df.head()"
   ]
  },
  {
   "cell_type": "code",
   "execution_count": 7,
   "id": "4e375a6f",
   "metadata": {},
   "outputs": [
    {
     "name": "stdout",
     "output_type": "stream",
     "text": [
      "Columnas: Index(['label', 'text'], dtype='object')\n",
      "\n",
      "Valores nulos por columna:\n",
      " label    0\n",
      "text     0\n",
      "dtype: int64\n",
      "\n",
      "Clases:\n",
      " label\n",
      "0    4825\n",
      "1     747\n",
      "Name: count, dtype: int64\n"
     ]
    }
   ],
   "source": [
    "print(\"Columnas:\", df.columns)\n",
    "print(\"\\nValores nulos por columna:\\n\", df.isna().sum())\n",
    "print(\"\\nClases:\\n\", df['label'].value_counts())\n"
   ]
  },
  {
   "cell_type": "code",
   "execution_count": 8,
   "id": "8f307a6f",
   "metadata": {},
   "outputs": [
    {
     "data": {
      "text/html": [
       "<div>\n",
       "<style scoped>\n",
       "    .dataframe tbody tr th:only-of-type {\n",
       "        vertical-align: middle;\n",
       "    }\n",
       "\n",
       "    .dataframe tbody tr th {\n",
       "        vertical-align: top;\n",
       "    }\n",
       "\n",
       "    .dataframe thead th {\n",
       "        text-align: right;\n",
       "    }\n",
       "</style>\n",
       "<table border=\"1\" class=\"dataframe\">\n",
       "  <thead>\n",
       "    <tr style=\"text-align: right;\">\n",
       "      <th></th>\n",
       "      <th>text</th>\n",
       "      <th>length</th>\n",
       "    </tr>\n",
       "  </thead>\n",
       "  <tbody>\n",
       "    <tr>\n",
       "      <th>0</th>\n",
       "      <td>Go until jurong point, crazy.. Available only ...</td>\n",
       "      <td>111</td>\n",
       "    </tr>\n",
       "    <tr>\n",
       "      <th>1</th>\n",
       "      <td>Ok lar... Joking wif u oni...</td>\n",
       "      <td>29</td>\n",
       "    </tr>\n",
       "    <tr>\n",
       "      <th>2</th>\n",
       "      <td>Free entry in 2 a wkly comp to win FA Cup fina...</td>\n",
       "      <td>155</td>\n",
       "    </tr>\n",
       "    <tr>\n",
       "      <th>3</th>\n",
       "      <td>U dun say so early hor... U c already then say...</td>\n",
       "      <td>49</td>\n",
       "    </tr>\n",
       "    <tr>\n",
       "      <th>4</th>\n",
       "      <td>Nah I don't think he goes to usf, he lives aro...</td>\n",
       "      <td>61</td>\n",
       "    </tr>\n",
       "  </tbody>\n",
       "</table>\n",
       "</div>"
      ],
      "text/plain": [
       "                                                text  length\n",
       "0  Go until jurong point, crazy.. Available only ...     111\n",
       "1                      Ok lar... Joking wif u oni...      29\n",
       "2  Free entry in 2 a wkly comp to win FA Cup fina...     155\n",
       "3  U dun say so early hor... U c already then say...      49\n",
       "4  Nah I don't think he goes to usf, he lives aro...      61"
      ]
     },
     "execution_count": 8,
     "metadata": {},
     "output_type": "execute_result"
    }
   ],
   "source": [
    "df['length'] = df['text'].str.len()\n",
    "df[['text','length']].head()\n"
   ]
  },
  {
   "cell_type": "code",
   "execution_count": 9,
   "id": "8d983845",
   "metadata": {},
   "outputs": [
    {
     "data": {
      "text/html": [
       "<div>\n",
       "<style scoped>\n",
       "    .dataframe tbody tr th:only-of-type {\n",
       "        vertical-align: middle;\n",
       "    }\n",
       "\n",
       "    .dataframe tbody tr th {\n",
       "        vertical-align: top;\n",
       "    }\n",
       "\n",
       "    .dataframe thead th {\n",
       "        text-align: right;\n",
       "    }\n",
       "</style>\n",
       "<table border=\"1\" class=\"dataframe\">\n",
       "  <thead>\n",
       "    <tr style=\"text-align: right;\">\n",
       "      <th></th>\n",
       "      <th>text</th>\n",
       "      <th>clean_text</th>\n",
       "    </tr>\n",
       "  </thead>\n",
       "  <tbody>\n",
       "    <tr>\n",
       "      <th>0</th>\n",
       "      <td>Go until jurong point, crazy.. Available only ...</td>\n",
       "      <td>go jurong point crazy available bugis great wo...</td>\n",
       "    </tr>\n",
       "    <tr>\n",
       "      <th>1</th>\n",
       "      <td>Ok lar... Joking wif u oni...</td>\n",
       "      <td>ok lar joking wif oni</td>\n",
       "    </tr>\n",
       "    <tr>\n",
       "      <th>2</th>\n",
       "      <td>Free entry in 2 a wkly comp to win FA Cup fina...</td>\n",
       "      <td>free entry wkly comp win fa cup final tkts st ...</td>\n",
       "    </tr>\n",
       "    <tr>\n",
       "      <th>3</th>\n",
       "      <td>U dun say so early hor... U c already then say...</td>\n",
       "      <td>dun say early hor already say</td>\n",
       "    </tr>\n",
       "    <tr>\n",
       "      <th>4</th>\n",
       "      <td>Nah I don't think he goes to usf, he lives aro...</td>\n",
       "      <td>nah think goes usf lives around though</td>\n",
       "    </tr>\n",
       "    <tr>\n",
       "      <th>5</th>\n",
       "      <td>FreeMsg Hey there darling it's been 3 week's n...</td>\n",
       "      <td>freemsg hey darling week word back like fun st...</td>\n",
       "    </tr>\n",
       "    <tr>\n",
       "      <th>6</th>\n",
       "      <td>Even my brother is not like to speak with me. ...</td>\n",
       "      <td>even brother like speak treat like aids patent</td>\n",
       "    </tr>\n",
       "    <tr>\n",
       "      <th>7</th>\n",
       "      <td>As per your request 'Melle Melle (Oru Minnamin...</td>\n",
       "      <td>per request melle melle oru minnaminunginte nu...</td>\n",
       "    </tr>\n",
       "    <tr>\n",
       "      <th>8</th>\n",
       "      <td>WINNER!! As a valued network customer you have...</td>\n",
       "      <td>winner valued network customer selected receiv...</td>\n",
       "    </tr>\n",
       "    <tr>\n",
       "      <th>9</th>\n",
       "      <td>Had your mobile 11 months or more? U R entitle...</td>\n",
       "      <td>mobile months entitled update latest colour mo...</td>\n",
       "    </tr>\n",
       "    <tr>\n",
       "      <th>10</th>\n",
       "      <td>I'm gonna be home soon and i don't want to tal...</td>\n",
       "      <td>gon na home soon want talk stuff anymore tonig...</td>\n",
       "    </tr>\n",
       "    <tr>\n",
       "      <th>11</th>\n",
       "      <td>SIX chances to win CASH! From 100 to 20,000 po...</td>\n",
       "      <td>six chances win cash pounds txt csh send cost ...</td>\n",
       "    </tr>\n",
       "    <tr>\n",
       "      <th>12</th>\n",
       "      <td>URGENT! You have won a 1 week FREE membership ...</td>\n",
       "      <td>urgent week free membership prize jackpot txt ...</td>\n",
       "    </tr>\n",
       "    <tr>\n",
       "      <th>13</th>\n",
       "      <td>I've been searching for the right words to tha...</td>\n",
       "      <td>searching right words thank breather promise w...</td>\n",
       "    </tr>\n",
       "    <tr>\n",
       "      <th>14</th>\n",
       "      <td>I HAVE A DATE ON SUNDAY WITH WILL!!</td>\n",
       "      <td>date sunday</td>\n",
       "    </tr>\n",
       "    <tr>\n",
       "      <th>15</th>\n",
       "      <td>XXXMobileMovieClub: To use your credit, click ...</td>\n",
       "      <td>xxxmobilemovieclub use credit click wap link n...</td>\n",
       "    </tr>\n",
       "    <tr>\n",
       "      <th>16</th>\n",
       "      <td>Oh k...i'm watching here:)</td>\n",
       "      <td>oh watching</td>\n",
       "    </tr>\n",
       "    <tr>\n",
       "      <th>17</th>\n",
       "      <td>Eh u remember how 2 spell his name... Yes i di...</td>\n",
       "      <td>eh remember spell name yes naughty make wet</td>\n",
       "    </tr>\n",
       "    <tr>\n",
       "      <th>18</th>\n",
       "      <td>Fine if thats the way u feel. Thats the way ...</td>\n",
       "      <td>fine way feel way gota</td>\n",
       "    </tr>\n",
       "    <tr>\n",
       "      <th>19</th>\n",
       "      <td>England v Macedonia - dont miss the goals/team...</td>\n",
       "      <td>england macedonia dont miss goals team news tx...</td>\n",
       "    </tr>\n",
       "  </tbody>\n",
       "</table>\n",
       "</div>"
      ],
      "text/plain": [
       "                                                 text  \\\n",
       "0   Go until jurong point, crazy.. Available only ...   \n",
       "1                       Ok lar... Joking wif u oni...   \n",
       "2   Free entry in 2 a wkly comp to win FA Cup fina...   \n",
       "3   U dun say so early hor... U c already then say...   \n",
       "4   Nah I don't think he goes to usf, he lives aro...   \n",
       "5   FreeMsg Hey there darling it's been 3 week's n...   \n",
       "6   Even my brother is not like to speak with me. ...   \n",
       "7   As per your request 'Melle Melle (Oru Minnamin...   \n",
       "8   WINNER!! As a valued network customer you have...   \n",
       "9   Had your mobile 11 months or more? U R entitle...   \n",
       "10  I'm gonna be home soon and i don't want to tal...   \n",
       "11  SIX chances to win CASH! From 100 to 20,000 po...   \n",
       "12  URGENT! You have won a 1 week FREE membership ...   \n",
       "13  I've been searching for the right words to tha...   \n",
       "14                I HAVE A DATE ON SUNDAY WITH WILL!!   \n",
       "15  XXXMobileMovieClub: To use your credit, click ...   \n",
       "16                         Oh k...i'm watching here:)   \n",
       "17  Eh u remember how 2 spell his name... Yes i di...   \n",
       "18  Fine if thats the way u feel. Thats the way ...   \n",
       "19  England v Macedonia - dont miss the goals/team...   \n",
       "\n",
       "                                           clean_text  \n",
       "0   go jurong point crazy available bugis great wo...  \n",
       "1                               ok lar joking wif oni  \n",
       "2   free entry wkly comp win fa cup final tkts st ...  \n",
       "3                       dun say early hor already say  \n",
       "4              nah think goes usf lives around though  \n",
       "5   freemsg hey darling week word back like fun st...  \n",
       "6      even brother like speak treat like aids patent  \n",
       "7   per request melle melle oru minnaminunginte nu...  \n",
       "8   winner valued network customer selected receiv...  \n",
       "9   mobile months entitled update latest colour mo...  \n",
       "10  gon na home soon want talk stuff anymore tonig...  \n",
       "11  six chances win cash pounds txt csh send cost ...  \n",
       "12  urgent week free membership prize jackpot txt ...  \n",
       "13  searching right words thank breather promise w...  \n",
       "14                                        date sunday  \n",
       "15  xxxmobilemovieclub use credit click wap link n...  \n",
       "16                                        oh watching  \n",
       "17        eh remember spell name yes naughty make wet  \n",
       "18                             fine way feel way gota  \n",
       "19  england macedonia dont miss goals team news tx...  "
      ]
     },
     "execution_count": 9,
     "metadata": {},
     "output_type": "execute_result"
    }
   ],
   "source": [
    "def clean_text(text):\n",
    "    # 1. Minúsculas\n",
    "    text = text.lower()\n",
    "    # 2. Eliminar todo lo que no sea letras o espacios\n",
    "    text = re.sub(r\"[^a-z\\s]\", \" \", text)\n",
    "    # 3. Tokenización\n",
    "    tokens = nltk.word_tokenize(text)\n",
    "    # 4. Eliminar stopwords y palabras cortas\n",
    "    tokens = [t for t in tokens if t not in stop_words and len(t) > 1]\n",
    "    # 5. Reconstrucción\n",
    "    return \" \".join(tokens)\n",
    "\n",
    "# Aplicar al dataset\n",
    "df['clean_text'] = df['text'].astype(str).apply(clean_text)\n",
    "\n",
    "# Comparar original vs limpio\n",
    "df[['text','clean_text']].head(20)\n"
   ]
  },
  {
   "cell_type": "code",
   "execution_count": null,
   "id": "21b1278b",
   "metadata": {},
   "outputs": [
    {
     "name": "stdout",
     "output_type": "stream",
     "text": [
      "Dataset limpio guardado como sms_clean.csv\n"
     ]
    }
   ],
   "source": [
    "#df.to_csv(\"sms_clean.csv\", index=False)\n",
    "#print(\"Dataset limpio guardado como sms_clean.csv\")\n",
    "# Guardar el dataset limpio"
   ]
  },
  {
   "cell_type": "markdown",
   "id": "d3d7fcd1",
   "metadata": {},
   "source": [
    "Selección de características con TF-IDF + modelo superficial"
   ]
  },
  {
   "cell_type": "code",
   "execution_count": 10,
   "id": "2c7caa71",
   "metadata": {},
   "outputs": [
    {
     "name": "stdout",
     "output_type": "stream",
     "text": [
      "Matriz TF-IDF: (5572, 5000)\n",
      "Matriz después de selección: (5572, 1000)\n",
      "Ejemplo de features seleccionadas: ['ab', 'abta', 'ac', 'access', 'accident', 'account', 'acl', 'aco', 'action', 'activate', 'active', 'adam', 'addamsfa', 'admirer', 'ads', 'adult', 'advise', 'ae', 'ag', 'age', 'ah', 'aight', 'aj', 'alert', 'alfie', 'algarve', 'already', 'also', 'always', 'amazing', 'among', 'amp', 'announcement', 'ans', 'ansr', 'anything', 'anytime', 'aom', 'app', 'apply', 'arcade', 'area', 'around', 'arrive', 'arsenal', 'asap', 'ask', 'asp', 'attempt', 'auction', 'august', 'await', 'awaiting', 'award', 'awarded', 'bahamas', 'balance', 'bcm', 'bears', 'bid', 'biggest', 'billed', 'bit', 'biz', 'blind', 'blonde', 'bloomberg', 'blow', 'blu', 'bluetooth', 'bonus', 'bootydelious', 'box', 'bp', 'brand', 'bray', 'british', 'britney', 'brought', 'bt', 'bulbs', 'bus', 'bx', 'call', 'callback', 'callcost', 'caller', 'callfreefone', 'calls', 'camcorder', 'camera', 'canary', 'cancel', 'car', 'careers', 'cash', 'cashbin', 'cashto', 'cc', 'cd']\n"
     ]
    }
   ],
   "source": [
    "from sklearn.feature_extraction.text import TfidfVectorizer\n",
    "from sklearn.feature_selection import SelectKBest, chi2\n",
    "\n",
    "# 1. Vectorización TF-IDF\n",
    "vectorizer = TfidfVectorizer(max_features=5000)  # máximo 5000 palabras\n",
    "X = vectorizer.fit_transform(df['clean_text'])\n",
    "y = df['label']\n",
    "\n",
    "print(\"Matriz TF-IDF:\", X.shape)\n",
    "\n",
    "# 2. Selección de características con chi-cuadrado\n",
    "k = 1000  # número de features a conservar\n",
    "selector = SelectKBest(chi2, k=k)\n",
    "X_new = selector.fit_transform(X, y)\n",
    "\n",
    "print(\"Matriz después de selección:\", X_new.shape)\n",
    "\n",
    "# Obtener las palabras más importantes del dataset\n",
    "selected_features = [vectorizer.get_feature_names_out()[i] for i in selector.get_support(indices=True)]\n",
    "print(\"Ejemplo de features seleccionadas:\", selected_features[:100])\n"
   ]
  },
  {
   "cell_type": "markdown",
   "id": "8855016d",
   "metadata": {},
   "source": [
    "Aplicacion de SVM"
   ]
  },
  {
   "cell_type": "code",
   "execution_count": 11,
   "id": "75d3e452",
   "metadata": {},
   "outputs": [
    {
     "name": "stdout",
     "output_type": "stream",
     "text": [
      "🔹 Accuracy: 0.9820627802690582\n",
      "\n",
      "🔹 Reporte de Clasificación:\n",
      "               precision    recall  f1-score   support\n",
      "\n",
      "           0       0.98      1.00      0.99       966\n",
      "           1       1.00      0.87      0.93       149\n",
      "\n",
      "    accuracy                           0.98      1115\n",
      "   macro avg       0.99      0.93      0.96      1115\n",
      "weighted avg       0.98      0.98      0.98      1115\n",
      "\n"
     ]
    },
    {
     "data": {
      "image/png": "[encoded data removed]",
      "text/plain": [
       "<Figure size 640x480 with 2 Axes>"
      ]
     },
     "metadata": {},
     "output_type": "display_data"
    }
   ],
   "source": [
    "from sklearn.model_selection import train_test_split\n",
    "from sklearn.svm import SVC\n",
    "from sklearn.metrics import classification_report, accuracy_score, confusion_matrix\n",
    "import seaborn as sns\n",
    "import matplotlib.pyplot as plt\n",
    "\n",
    "# 1. Separar en entrenamiento y prueba\n",
    "X_train, X_test, y_train, y_test = train_test_split(\n",
    "    X_new, y, test_size=0.2, random_state=42, stratify=y\n",
    ")\n",
    "\n",
    "# 2. Definir y entrenar modelo SVM\n",
    "svm_model = SVC(kernel=\"linear\", C=1.0, random_state=42)\n",
    "svm_model.fit(X_train, y_train)\n",
    "\n",
    "# 3. Predecir en test\n",
    "y_pred = svm_model.predict(X_test)\n",
    "\n",
    "# 4. Métricas\n",
    "print(\"🔹 Accuracy:\", accuracy_score(y_test, y_pred))\n",
    "print(\"\\n🔹 Reporte de Clasificación:\\n\", classification_report(y_test, y_pred))\n",
    "\n",
    "# 5. Matriz de confusión\n",
    "cm = confusion_matrix(y_test, y_pred)\n",
    "sns.heatmap(cm, annot=True, fmt=\"d\", cmap=\"Blues\", xticklabels=[\"Ham\", \"Spam\"], yticklabels=[\"Ham\", \"Spam\"])\n",
    "plt.xlabel(\"Predicción\")\n",
    "plt.ylabel(\"Real\")\n",
    "plt.title(\"Matriz de Confusión - SVM\")\n",
    "plt.show()"
   ]
  }
 ],
 "metadata": {
  "kernelspec": {
   "display_name": "iatel",
   "language": "python",
   "name": "python3"
  },
  "language_info": {
   "codemirror_mode": {
    "name": "ipython",
    "version": 3
   },
   "file_extension": ".py",
   "mimetype": "text/x-python",
   "name": "python",
   "nbconvert_exporter": "python",
   "pygments_lexer": "ipython3",
   "version": "3.10.12"
  }
 },
 "nbformat": 4,
 "nbformat_minor": 5
}
